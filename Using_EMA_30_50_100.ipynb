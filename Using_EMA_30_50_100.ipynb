{
  "nbformat": 4,
  "nbformat_minor": 0,
  "metadata": {
    "colab": {
      "name": "Using EMA 30/50/100.ipynb",
      "provenance": [],
      "collapsed_sections": []
    },
    "kernelspec": {
      "name": "python3",
      "display_name": "Python 3"
    },
    "language_info": {
      "name": "python"
    }
  },
  "cells": [
    {
      "cell_type": "code",
      "execution_count": null,
      "metadata": {
        "id": "XSzOJbNism-t"
      },
      "outputs": [],
      "source": [
        "!pip install yfinance"
      ]
    },
    {
      "cell_type": "code",
      "source": [
        "!pip install pandas_ta"
      ],
      "metadata": {
        "id": "i_pB2Wr3uMaL"
      },
      "execution_count": null,
      "outputs": []
    },
    {
      "cell_type": "code",
      "source": [
        "import numpy as np\n",
        "import pandas as pd\n",
        "import yfinance as yf\n",
        "import pandas_datareader.data as web\n",
        "import pandas_ta as ta\n",
        "import matplotlib.pyplot as plt\n",
        "from datetime import date\n",
        "plt.style.use('fivethirtyeight')\n",
        "yf.pdr_override()"
      ],
      "metadata": {
        "id": "BNd5E8VwuN0s"
      },
      "execution_count": 33,
      "outputs": []
    },
    {
      "cell_type": "code",
      "source": [
        "stocksymbols = ['HDFCBANK.NS']\n",
        "startdate = date(2018,4,1)\n",
        "end_date = date(2019,3,31)\n",
        "print(end_date)\n",
        "def getMyPortfolio(stocks = stocksymbols ,start = startdate , end = end_date):\n",
        "    data = web.get_data_yahoo(stocks , data_source='yahoo' , start = start ,end= end )\n",
        "    return data"
      ],
      "metadata": {
        "id": "vaxoo9RhugUC"
      },
      "execution_count": null,
      "outputs": []
    },
    {
      "cell_type": "code",
      "source": [
        "df = getMyPortfolio(stocksymbols)\n"
      ],
      "metadata": {
        "id": "9ImmXNtBu1ON"
      },
      "execution_count": null,
      "outputs": []
    },
    {
      "cell_type": "code",
      "source": [
        "CustomStrategy = ta.Strategy(\n",
        "    name=\"Defining Various TI to be used\",\n",
        "    description=\"SMA 30,70, BBANDS, RSI, MACD, STOCH, EMA 30,50,100\",\n",
        "    ta=[\n",
        "        {\"kind\": \"sma\", \"length\": 30},\n",
        "        {\"kind\": \"sma\", \"length\": 70},\n",
        "        {\"kind\": \"bbands\", \"length\": 20},\n",
        "        {\"kind\": \"rsi\"},\n",
        "        {\"kind\": \"macd\", \"fast\": 8, \"slow\": 21},\n",
        "        {\"kind\": \"stoch\"},\n",
        "        {\"kind\": \"ema\", \"length\": 30},\n",
        "        {\"kind\": \"ema\", \"length\": 50},\n",
        "        {\"kind\": \"ema\", \"length\": 100},\n",
        "    ]\n",
        ")\n",
        "df.ta.strategy(CustomStrategy)"
      ],
      "metadata": {
        "id": "gzQxgnlnvBMR"
      },
      "execution_count": 36,
      "outputs": []
    },
    {
      "cell_type": "code",
      "source": [
        "df.rename(columns = {'EMA_30':'Short', 'EMA_50':'Middle', 'EMA_100':'Long'}, inplace = True)"
      ],
      "metadata": {
        "id": "erK3U7Qv0Vev"
      },
      "execution_count": 37,
      "outputs": []
    },
    {
      "cell_type": "code",
      "source": [
        "df.head(200)"
      ],
      "metadata": {
        "id": "eOSyUEs9vGdE"
      },
      "execution_count": null,
      "outputs": []
    },
    {
      "cell_type": "code",
      "source": [
        "plt.plot(df['SMA_30'], label='SMA', color='green')\n",
        "plt.plot(df['Open'], label='SHARE PRICE', color='black')\n",
        "\n",
        "#add legend\n",
        "plt.legend(title='Group')\n",
        "\n",
        "#add axes labels and a title\n",
        "plt.ylabel('SHARE PRICE', fontsize=14)\n",
        "plt.xlabel('Time', fontsize=14)\n",
        "plt.title('TA', fontsize=16)\n",
        "\n",
        "#display plot\n",
        "plt.show()"
      ],
      "metadata": {
        "id": "Upu17QGCvfsD"
      },
      "execution_count": null,
      "outputs": []
    },
    {
      "cell_type": "code",
      "source": [
        "def buy_sell_function(data):\n",
        "  buy_list = []\n",
        "  sell_list = []\n",
        "  flag_long = False\n",
        "  flag_short = False\n",
        "  for i in range(0,len(data)):\n",
        "    if data['Middle'][i] < data['Long'][i] and data['Middle'][i] > data['Short'][i] and flag_long == False and flag_short == False:\n",
        "        buy_list.append(data['Close'][i])\n",
        "        sell_list.append(np.nan)\n",
        "        flag_short = True\n",
        "    elif data['Middle'][i] > data['Long'][i] and data['Middle'][i] < data['Short'][i] and flag_short == False and flag_long == False:\n",
        "        buy_list.append(data['Close'][i])\n",
        "        sell_list.append(np.nan)\n",
        "        flag_long = True\n",
        "    elif flag_short == True and data['Short'][i] > data['Middle'][i]:\n",
        "        sell_list.append(data['Close'][i])\n",
        "        buy_list.append(np.nan)\n",
        "        flag_short = False\n",
        "    elif flag_long == True and data['Short'][i] < data['Middle'][i]:\n",
        "        sell_list.append(data['Close'][i])\n",
        "        buy_list.append(np.nan)\n",
        "        flag_long = False\n",
        "    else:\n",
        "        buy_list.append(np.nan)\n",
        "        sell_list.append(np.nan)\n",
        "  return (buy_list, sell_list)\n",
        "\n",
        "df['Buy'] = buy_sell_function(df)[0]\n",
        "df['Sell'] =buy_sell_function(df)[1]"
      ],
      "metadata": {
        "id": "lGaKlgh7v2Oy"
      },
      "execution_count": 40,
      "outputs": []
    },
    {
      "cell_type": "code",
      "source": [
        "df.head(200)"
      ],
      "metadata": {
        "id": "kYkyBb4Pv3oi"
      },
      "execution_count": null,
      "outputs": []
    },
    {
      "cell_type": "code",
      "source": [
        "bs=df['Buy']\n",
        "ss=df['Sell']\n",
        "b = bs[np.logical_not(np.isnan(bs))]\n",
        "s = ss[np.logical_not(np.isnan(ss))]\n",
        "print(b)\n",
        "print(s)"
      ],
      "metadata": {
        "colab": {
          "base_uri": "https://localhost:8080/"
        },
        "id": "ISMUjRcov913",
        "outputId": "7e7463ce-dd38-40e3-aedc-4192782ec5ee"
      },
      "execution_count": 41,
      "outputs": [
        {
          "output_type": "stream",
          "name": "stdout",
          "text": [
            "Date\n",
            "2018-08-21    1048.025024\n",
            "2018-10-10     983.575012\n",
            "2018-12-05    1049.599976\n",
            "Name: Buy, dtype: float64\n",
            "Date\n",
            "2018-09-07    1028.474976\n",
            "2018-11-29    1065.525024\n",
            "Name: Sell, dtype: float64\n"
          ]
        }
      ]
    },
    {
      "cell_type": "code",
      "source": [
        "tp=0\n",
        "fl=0\n",
        "for i in range(len(s)):\n",
        "  tp = tp + s[i]\n",
        "  tp = tp - b[i]\n",
        "print(tp)"
      ],
      "metadata": {
        "colab": {
          "base_uri": "https://localhost:8080/"
        },
        "id": "t5--4BiMwJFH",
        "outputId": "33436dfa-fbdf-441e-a1fd-ce772288e80d"
      },
      "execution_count": 42,
      "outputs": [
        {
          "output_type": "stream",
          "name": "stdout",
          "text": [
            "62.39996337890625\n"
          ]
        }
      ]
    }
  ]
}
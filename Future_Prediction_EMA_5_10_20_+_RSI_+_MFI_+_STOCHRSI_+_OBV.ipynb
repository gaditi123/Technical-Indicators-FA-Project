{
  "nbformat": 4,
  "nbformat_minor": 0,
  "metadata": {
    "colab": {
      "name": "Future Prediction EMA 5/10/20 + RSI + MFI + STOCHRSI + OBV.ipynb",
      "provenance": [],
      "collapsed_sections": [],
      "authorship_tag": "ABX9TyM/mO1IIPkr4m6a253ZjGd5",
      "include_colab_link": true
    },
    "kernelspec": {
      "name": "python3",
      "display_name": "Python 3"
    },
    "language_info": {
      "name": "python"
    }
  },
  "cells": [
    {
      "cell_type": "markdown",
      "metadata": {
        "id": "view-in-github",
        "colab_type": "text"
      },
      "source": [
        "<a href=\"https://colab.research.google.com/github/jain777/Technical-Indicators-FA-Project/blob/main/Future_Prediction_EMA_5_10_20_%2B_RSI_%2B_MFI_%2B_STOCHRSI_%2B_OBV.ipynb\" target=\"_parent\"><img src=\"https://colab.research.google.com/assets/colab-badge.svg\" alt=\"Open In Colab\"/></a>"
      ]
    },
    {
      "cell_type": "code",
      "execution_count": 96,
      "metadata": {
        "id": "XSzOJbNism-t",
        "colab": {
          "base_uri": "https://localhost:8080/"
        },
        "outputId": "7b38d35a-d5af-416d-9471-2623c7998004"
      },
      "outputs": [
        {
          "output_type": "stream",
          "name": "stdout",
          "text": [
            "Looking in indexes: https://pypi.org/simple, https://us-python.pkg.dev/colab-wheels/public/simple/\n",
            "Requirement already satisfied: yfinance in /usr/local/lib/python3.7/dist-packages (0.1.72)\n",
            "Requirement already satisfied: pandas>=0.24.0 in /usr/local/lib/python3.7/dist-packages (from yfinance) (1.3.5)\n",
            "Requirement already satisfied: numpy>=1.15 in /usr/local/lib/python3.7/dist-packages (from yfinance) (1.21.6)\n",
            "Requirement already satisfied: requests>=2.26 in /usr/local/lib/python3.7/dist-packages (from yfinance) (2.28.1)\n",
            "Requirement already satisfied: lxml>=4.5.1 in /usr/local/lib/python3.7/dist-packages (from yfinance) (4.9.1)\n",
            "Requirement already satisfied: multitasking>=0.0.7 in /usr/local/lib/python3.7/dist-packages (from yfinance) (0.0.10)\n",
            "Requirement already satisfied: python-dateutil>=2.7.3 in /usr/local/lib/python3.7/dist-packages (from pandas>=0.24.0->yfinance) (2.8.2)\n",
            "Requirement already satisfied: pytz>=2017.3 in /usr/local/lib/python3.7/dist-packages (from pandas>=0.24.0->yfinance) (2022.1)\n",
            "Requirement already satisfied: six>=1.5 in /usr/local/lib/python3.7/dist-packages (from python-dateutil>=2.7.3->pandas>=0.24.0->yfinance) (1.15.0)\n",
            "Requirement already satisfied: charset-normalizer<3,>=2 in /usr/local/lib/python3.7/dist-packages (from requests>=2.26->yfinance) (2.1.0)\n",
            "Requirement already satisfied: certifi>=2017.4.17 in /usr/local/lib/python3.7/dist-packages (from requests>=2.26->yfinance) (2022.6.15)\n",
            "Requirement already satisfied: urllib3<1.27,>=1.21.1 in /usr/local/lib/python3.7/dist-packages (from requests>=2.26->yfinance) (1.24.3)\n",
            "Requirement already satisfied: idna<4,>=2.5 in /usr/local/lib/python3.7/dist-packages (from requests>=2.26->yfinance) (2.10)\n"
          ]
        }
      ],
      "source": [
        "!pip install yfinance"
      ]
    },
    {
      "cell_type": "code",
      "source": [
        "!pip install pandas_ta"
      ],
      "metadata": {
        "id": "i_pB2Wr3uMaL",
        "colab": {
          "base_uri": "https://localhost:8080/"
        },
        "outputId": "be642aae-732f-4177-8930-6e0ab67d494f"
      },
      "execution_count": 97,
      "outputs": [
        {
          "output_type": "stream",
          "name": "stdout",
          "text": [
            "Looking in indexes: https://pypi.org/simple, https://us-python.pkg.dev/colab-wheels/public/simple/\n",
            "Requirement already satisfied: pandas_ta in /usr/local/lib/python3.7/dist-packages (0.3.14b0)\n",
            "Requirement already satisfied: pandas in /usr/local/lib/python3.7/dist-packages (from pandas_ta) (1.3.5)\n",
            "Requirement already satisfied: pytz>=2017.3 in /usr/local/lib/python3.7/dist-packages (from pandas->pandas_ta) (2022.1)\n",
            "Requirement already satisfied: python-dateutil>=2.7.3 in /usr/local/lib/python3.7/dist-packages (from pandas->pandas_ta) (2.8.2)\n",
            "Requirement already satisfied: numpy>=1.17.3 in /usr/local/lib/python3.7/dist-packages (from pandas->pandas_ta) (1.21.6)\n",
            "Requirement already satisfied: six>=1.5 in /usr/local/lib/python3.7/dist-packages (from python-dateutil>=2.7.3->pandas->pandas_ta) (1.15.0)\n"
          ]
        }
      ]
    },
    {
      "cell_type": "code",
      "source": [
        "import numpy as np\n",
        "import pandas as pd\n",
        "import yfinance as yf\n",
        "import pandas_datareader.data as web\n",
        "import pandas_ta as ta\n",
        "import matplotlib.pyplot as plt\n",
        "from datetime import date\n",
        "plt.style.use('fivethirtyeight')\n",
        "yf.pdr_override()"
      ],
      "metadata": {
        "id": "BNd5E8VwuN0s"
      },
      "execution_count": 98,
      "outputs": []
    },
    {
      "cell_type": "code",
      "source": [
        "stocksymbols = ['SBIN.NS']\n",
        "startdate = date(2015,1,1)\n",
        "end_date = date(2015,3,31)\n",
        "def getMyPortfolio(stocks = stocksymbols ,start = startdate , end = end_date):\n",
        "    data = web.get_data_yahoo(stocks , data_source='yahoo' , start = start ,end= end )\n",
        "    return data"
      ],
      "metadata": {
        "id": "vaxoo9RhugUC"
      },
      "execution_count": 163,
      "outputs": []
    },
    {
      "cell_type": "code",
      "source": [
        "df = getMyPortfolio(stocksymbols)\n"
      ],
      "metadata": {
        "id": "9ImmXNtBu1ON",
        "colab": {
          "base_uri": "https://localhost:8080/"
        },
        "outputId": "81f1a5d6-73f7-4a83-8f19-2ae12024857e"
      },
      "execution_count": 164,
      "outputs": [
        {
          "output_type": "stream",
          "name": "stdout",
          "text": [
            "\r[*********************100%***********************]  1 of 1 completed\n"
          ]
        }
      ]
    },
    {
      "cell_type": "code",
      "source": [
        "CustomStrategy = ta.Strategy(\n",
        "    name=\"Defining Various TI to be used\",\n",
        "    description=\"MFI,RSI & EMA 30,50,100\",\n",
        "    ta=[\n",
        "        {\"kind\": \"mfi\",}, #volume\n",
        "        {\"kind\" : \"obv\"}, #volume\n",
        "        {\"kind\": \"rsi\"}, #momentum\n",
        "        {\"kind\":\"stochrsi\"},#momentum\n",
        "        {\"kind\": \"ema\", \"length\": 5}, #trend\n",
        "        {\"kind\": \"ema\", \"length\": 10}, #trend\n",
        "        {\"kind\": \"ema\", \"length\": 20}, #trend\n",
        "    ]\n",
        ")\n",
        "df.ta.strategy(CustomStrategy)"
      ],
      "metadata": {
        "id": "gzQxgnlnvBMR"
      },
      "execution_count": 165,
      "outputs": []
    },
    {
      "cell_type": "code",
      "source": [
        "df.rename(columns = {'EMA_5':'Short', 'EMA_10':'Middle', 'EMA_20':'Long'}, inplace = True)\n",
        "df['OBV_EMA'] = df['OBV'].ewm(span=14).mean()"
      ],
      "metadata": {
        "id": "erK3U7Qv0Vev"
      },
      "execution_count": 166,
      "outputs": []
    },
    {
      "cell_type": "code",
      "source": [
        "def buy_sell_function(data):\n",
        "  buysig = []\n",
        "  buyprice = []\n",
        "  flag_long = False\n",
        "  flag_short = False\n",
        "  for i in range(0,len(data)):\n",
        "    if data['Middle'][i] < data['Long'][i] and data['Middle'][i] > data['Short'][i] and flag_long == False and flag_short == False:\n",
        "        buysig.append(1)\n",
        "        buyprice.append(data['Close'][i])\n",
        "        flag_short = True\n",
        "    elif data['Middle'][i] > data['Long'][i] and data['Middle'][i] < data['Short'][i] and flag_short == False and flag_long == False:\n",
        "        buysig.append(1)\n",
        "        buyprice.append(data['Close'][i])\n",
        "        flag_long = True\n",
        "    elif flag_short == True and data['Short'][i] > data['Middle'][i]:\n",
        "        buyprice.append(data['Close'][i])\n",
        "        buysig.append(-1)\n",
        "        flag_short = False\n",
        "    elif flag_long == True and data['Short'][i] < data['Middle'][i]:\n",
        "        buyprice.append(data['Close'][i])\n",
        "        buysig.append(-1)\n",
        "        flag_long = False\n",
        "    else:\n",
        "        buysig.append(0)\n",
        "        buyprice.append(data['Close'][i])\n",
        "  return (buysig, buyprice)\n",
        "\n",
        "df['buysignal'] = buy_sell_function(df)[0]\n",
        "df['buyprice'] =buy_sell_function(df)[1]"
      ],
      "metadata": {
        "id": "lGaKlgh7v2Oy"
      },
      "execution_count": 167,
      "outputs": []
    },
    {
      "cell_type": "code",
      "source": [
        "obv=df['OBV']\n",
        "obvema = df['OBV_EMA']\n",
        "fl=0\n",
        "obvsig=[]\n",
        "for i in range(len(obv)):\n",
        "  if obv[i]<obvema[i] and fl==1:\n",
        "    obvsig.append(-1)\n",
        "    fl=0\n",
        "  elif obv[i]>obvema[i] and fl==0:\n",
        "    obvsig.append(1)\n",
        "    fl=1\n",
        "  else:\n",
        "    obvsig.append(0)"
      ],
      "metadata": {
        "id": "X3N-4eI8kSHn"
      },
      "execution_count": 168,
      "outputs": []
    },
    {
      "cell_type": "code",
      "source": [
        "stoch=df['STOCHRSIk_14_14_3_3']\n",
        "stochsig=[]\n",
        "for i in range(len(stoch)):\n",
        "  if stoch[i]>80:\n",
        "    stochsig.append(-1)\n",
        "  elif stoch[i]<20:\n",
        "    stochsig.append(1)\n",
        "  else:\n",
        "    stochsig.append(0)"
      ],
      "metadata": {
        "id": "AWBPkw8zlCp_"
      },
      "execution_count": 169,
      "outputs": []
    },
    {
      "cell_type": "code",
      "source": [
        "mfi=df['MFI_14']\n",
        "rsi=df['RSI_14']\n",
        "mfisig=[]\n",
        "for i in range(len(mfi)):\n",
        "  if mfi[i]>80:\n",
        "    mfisig.append(-1)\n",
        "  elif mfi[i]<20:\n",
        "    mfisig.append(1)\n",
        "  else:\n",
        "    mfisig.append(0)"
      ],
      "metadata": {
        "id": "W96cxFXILhAI"
      },
      "execution_count": 170,
      "outputs": []
    },
    {
      "cell_type": "code",
      "source": [
        "rsi=df['RSI_14']\n",
        "rsisig=[]\n",
        "for i in range(len(rsi)):\n",
        "  if rsi[i]>70:\n",
        "    rsisig.append(-1)\n",
        "  elif rsi[i]<30:\n",
        "    rsisig.append(1)\n",
        "  else:\n",
        "    rsisig.append(0)"
      ],
      "metadata": {
        "id": "ohVoOCeEMuYM"
      },
      "execution_count": 171,
      "outputs": []
    },
    {
      "cell_type": "code",
      "source": [
        "bs=df['buysignal']\n",
        "ss=df['buyprice']"
      ],
      "metadata": {
        "id": "gKKKLh16HNnR"
      },
      "execution_count": 172,
      "outputs": []
    },
    {
      "cell_type": "code",
      "source": [
        "def calcProfit(w1,w2,w3,w4,w5):\n",
        "  tp=0\n",
        "  fl=0\n",
        "  bp=0\n",
        "  for i in range(len(bs)):\n",
        "    val= mfisig[i]*w1 + obvsig[i]*w2 + rsisig[i]*w3 + stochsig[i]*w4 + bs[i]*w5 \n",
        "    if val>=20 and fl==0:\n",
        "      tp-=ss[i]\n",
        "      fl=1\n",
        "      bp=ss[i]\n",
        "    elif val<=-20 and fl==1:\n",
        "      tp+=ss[i]\n",
        "      fl=0\n",
        "\n",
        "  if(fl==1):\n",
        "    tp+=bp\n",
        "\n",
        "  return tp\n",
        "\n",
        "arr=[0,10,20,30,40,50,60,70,80]\n",
        "ans=0\n",
        "wt=[]\n",
        "for i1 in range(len(arr)):\n",
        "  for i2 in range(len(arr)):\n",
        "    for i3 in range(len(arr)):\n",
        "      for i4 in range(len(arr)):\n",
        "        for i5 in range(len(arr)):\n",
        "          funcval=calcProfit(arr[i1],arr[i2],arr[i3],arr[i4],arr[i5])\n",
        "          ans=max(funcval,ans)\n",
        "          if(funcval==ans):\n",
        "            wt.clear()\n",
        "            wt.append(arr[i1])\n",
        "            wt.append(arr[i2])\n",
        "            wt.append(arr[i3])\n",
        "            wt.append(arr[i4])\n",
        "            wt.append(arr[i5])\n",
        "\n",
        "fin=(ans/ss[0])*100\n",
        "marketprof=((ss[len(ss)-1]-ss[0])/ss[0])*100\n",
        "print(fin)\n",
        "print(marketprof)\n",
        "print(wt)\n"
      ],
      "metadata": {
        "id": "t5--4BiMwJFH",
        "colab": {
          "base_uri": "https://localhost:8080/"
        },
        "outputId": "5da9e07f-2f40-43a2-db76-7963570d5ad8"
      },
      "execution_count": 173,
      "outputs": [
        {
          "output_type": "stream",
          "name": "stdout",
          "text": [
            "11.894925840341362\n",
            "-14.681530606215167\n",
            "[80, 80, 80, 80, 10]\n"
          ]
        }
      ]
    },
    {
      "cell_type": "code",
      "source": [
        "stocksymbols = ['SBIN.NS']\n",
        "startdate = date(2015,4,1)\n",
        "end_date = date(2015,6,30)\n",
        "def getMyPortfolioNew(stocks = stocksymbols ,start = startdate , end = end_date):\n",
        "    data = web.get_data_yahoo(stocks , data_source='yahoo' , start = start ,end= end )\n",
        "    return data\n",
        "\n",
        "dfnew = getMyPortfolioNew(stocksymbols)"
      ],
      "metadata": {
        "id": "mtScuq3Qq9ZI"
      },
      "execution_count": null,
      "outputs": []
    },
    {
      "cell_type": "code",
      "source": [
        "dfnew.ta.strategy(CustomStrategy)"
      ],
      "metadata": {
        "id": "8JMdRV_nrgFW"
      },
      "execution_count": 175,
      "outputs": []
    },
    {
      "cell_type": "code",
      "source": [
        "dfnew.rename(columns = {'EMA_5':'Short', 'EMA_10':'Middle', 'EMA_20':'Long'}, inplace = True)\n",
        "dfnew['OBV_EMA'] = dfnew['OBV'].ewm(span=14).mean()\n"
      ],
      "metadata": {
        "id": "fornF1ztrpKn"
      },
      "execution_count": 176,
      "outputs": []
    },
    {
      "cell_type": "code",
      "source": [
        "dfnew['buysignal'] = buy_sell_function(dfnew)[0]\n",
        "dfnew['buyprice'] =buy_sell_function(dfnew)[1]\n",
        "\n",
        "obv1=dfnew['OBV']\n",
        "obvema1 = dfnew['OBV_EMA']\n",
        "fl=0\n",
        "obvsig1=[]\n",
        "for i in range(len(obv)):\n",
        "  if obv1[i]<obvema1[i] and fl==1:\n",
        "    obvsig1.append(-1)\n",
        "    fl=0\n",
        "  elif obv1[i]>obvema1[i] and fl==0:\n",
        "    obvsig1.append(1)\n",
        "    fl=1\n",
        "  else:\n",
        "    obvsig1.append(0)\n",
        "\n",
        "stoch1=dfnew['STOCHRSIk_14_14_3_3']\n",
        "stochsig1=[]\n",
        "for i in range(len(stoch1)):\n",
        "  if stoch1[i]>80:\n",
        "    stochsig1.append(-1)\n",
        "  elif stoch1[i]<20:\n",
        "    stochsig1.append(1)\n",
        "  else:\n",
        "    stochsig1.append(0)\n",
        "\n",
        "mfi1=dfnew['MFI_14']\n",
        "rsi1=dfnew['RSI_14']\n",
        "mfisig1=[]\n",
        "for i in range(len(mfi)):\n",
        "  if mfi1[i]>80:\n",
        "    mfisig1.append(-1)\n",
        "  elif mfi1[i]<20:\n",
        "    mfisig1.append(1)\n",
        "  else:\n",
        "    mfisig1.append(0)\n",
        "\n",
        "rsisig1=[]\n",
        "for i in range(len(rsi1)):\n",
        "  if rsi1[i]>70:\n",
        "    rsisig1.append(-1)\n",
        "  elif rsi1[i]<30:\n",
        "    rsisig1.append(1)\n",
        "  else:\n",
        "    rsisig1.append(0)\n",
        "\n",
        "bs1=dfnew['buysignal']\n",
        "ss1=dfnew['buyprice']"
      ],
      "metadata": {
        "id": "XZvRvZ-dr6ls"
      },
      "execution_count": 177,
      "outputs": []
    },
    {
      "cell_type": "code",
      "source": [
        "\n",
        "def calcProfit1(w1,w2,w3,w4,w5):\n",
        "  tp=0\n",
        "  fl=0\n",
        "  bp=0\n",
        "  z=0\n",
        "  buypricefirst=1\n",
        "  for i in range(len(bs)):\n",
        "    val= mfisig1[i]*w1 + obvsig1[i]*w2 + rsisig1[i]*w3 + stochsig1[i]*w4 + bs1[i]*w5 \n",
        "    if val>=20 and fl==0:\n",
        "      if z==0:\n",
        "        buypricefirst=ss1[i]\n",
        "      \n",
        "      tp-=ss1[i]\n",
        "      z=z+1\n",
        "      fl=1\n",
        "      bp=ss1[i]\n",
        "    elif val<=-20 and fl==1:\n",
        "      tp+=ss1[i]\n",
        "      fl=0\n",
        "\n",
        "  if(fl==1):\n",
        "    tp+=bp\n",
        "\n",
        "  return tp/buypricefirst\n",
        "\n",
        "funcval=calcProfit1(wt[0],wt[1],wt[2],wt[3],wt[4])\n",
        "print(wt)\n",
        "\n",
        "fin1=(funcval)*100\n",
        "marketprof1=((ss1[len(ss)-1]-ss1[0])/ss1[0])*100\n",
        "print(fin1)\n",
        "print(marketprof1)"
      ],
      "metadata": {
        "id": "suZcTLDZsgOV",
        "colab": {
          "base_uri": "https://localhost:8080/"
        },
        "outputId": "f2e256a0-1d11-466a-97bf-e21395b18000"
      },
      "execution_count": 178,
      "outputs": [
        {
          "output_type": "stream",
          "name": "stdout",
          "text": [
            "[80, 80, 80, 80, 10]\n",
            "1.4381874302687492\n",
            "-5.046632910770824\n"
          ]
        }
      ]
    }
  ]
}
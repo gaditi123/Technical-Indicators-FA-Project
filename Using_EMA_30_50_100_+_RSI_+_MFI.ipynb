{
  "nbformat": 4,
  "nbformat_minor": 0,
  "metadata": {
    "colab": {
      "name": "Using EMA 30/50/100 + RSI + MFI.ipynb",
      "provenance": [],
      "collapsed_sections": [],
      "authorship_tag": "ABX9TyPquYrmz025BR3lz9b7uJh/",
      "include_colab_link": true
    },
    "kernelspec": {
      "name": "python3",
      "display_name": "Python 3"
    },
    "language_info": {
      "name": "python"
    }
  },
  "cells": [
    {
      "cell_type": "markdown",
      "metadata": {
        "id": "view-in-github",
        "colab_type": "text"
      },
      "source": [
        "<a href=\"https://colab.research.google.com/github/jain777/Technical-Indicators-FA-Project/blob/main/Using_EMA_30_50_100_%2B_RSI_%2B_MFI.ipynb\" target=\"_parent\"><img src=\"https://colab.research.google.com/assets/colab-badge.svg\" alt=\"Open In Colab\"/></a>"
      ]
    },
    {
      "cell_type": "code",
      "execution_count": null,
      "metadata": {
        "id": "XSzOJbNism-t"
      },
      "outputs": [],
      "source": [
        "!pip install yfinance"
      ]
    },
    {
      "cell_type": "code",
      "source": [
        "!pip install pandas_ta"
      ],
      "metadata": {
        "id": "i_pB2Wr3uMaL"
      },
      "execution_count": null,
      "outputs": []
    },
    {
      "cell_type": "code",
      "source": [
        "import numpy as np\n",
        "import pandas as pd\n",
        "import yfinance as yf\n",
        "import pandas_datareader.data as web\n",
        "import pandas_ta as ta\n",
        "import matplotlib.pyplot as plt\n",
        "from datetime import date\n",
        "plt.style.use('fivethirtyeight')\n",
        "yf.pdr_override()"
      ],
      "metadata": {
        "id": "BNd5E8VwuN0s"
      },
      "execution_count": 148,
      "outputs": []
    },
    {
      "cell_type": "code",
      "source": [
        "stocksymbols = ['KOTAKBANK.NS']\n",
        "startdate = date(2015,1,1)\n",
        "end_date = date(2019,12,31)\n",
        "print(end_date)\n",
        "def getMyPortfolio(stocks = stocksymbols ,start = startdate , end = end_date):\n",
        "    data = web.get_data_yahoo(stocks , data_source='yahoo' , start = start ,end= end )\n",
        "    return data"
      ],
      "metadata": {
        "id": "vaxoo9RhugUC",
        "colab": {
          "base_uri": "https://localhost:8080/"
        },
        "outputId": "dc443a57-c4df-44d3-cf4e-9036021a47f5"
      },
      "execution_count": 227,
      "outputs": [
        {
          "output_type": "stream",
          "name": "stdout",
          "text": [
            "2019-12-31\n"
          ]
        }
      ]
    },
    {
      "cell_type": "code",
      "source": [
        "df = getMyPortfolio(stocksymbols)\n"
      ],
      "metadata": {
        "id": "9ImmXNtBu1ON",
        "colab": {
          "base_uri": "https://localhost:8080/"
        },
        "outputId": "0e7b50e4-bc71-4f8c-d69e-86a1b6661eb7"
      },
      "execution_count": 228,
      "outputs": [
        {
          "output_type": "stream",
          "name": "stdout",
          "text": [
            "\r[*********************100%***********************]  1 of 1 completed\n"
          ]
        }
      ]
    },
    {
      "cell_type": "code",
      "source": [
        "CustomStrategy = ta.Strategy(\n",
        "    name=\"Defining Various TI to be used\",\n",
        "    description=\"MFI,RSI & EMA 30,50,100\",\n",
        "    ta=[\n",
        "        {\"kind\": \"mfi\",}, #volume\n",
        "        {\"kind\": \"rsi\"}, #momentum\n",
        "        {\"kind\": \"ema\", \"length\": 14}, #trend\n",
        "        {\"kind\": \"ema\", \"length\": 50}, #trend\n",
        "        {\"kind\": \"ema\", \"length\": 100}, #trend\n",
        "    ]\n",
        ")\n",
        "df.ta.strategy(CustomStrategy)"
      ],
      "metadata": {
        "id": "gzQxgnlnvBMR"
      },
      "execution_count": 229,
      "outputs": []
    },
    {
      "cell_type": "code",
      "source": [
        "df.rename(columns = {'EMA_14':'Short', 'EMA_50':'Middle', 'EMA_100':'Long'}, inplace = True)"
      ],
      "metadata": {
        "id": "erK3U7Qv0Vev"
      },
      "execution_count": 230,
      "outputs": []
    },
    {
      "cell_type": "code",
      "source": [
        "df.tail(200)"
      ],
      "metadata": {
        "id": "eOSyUEs9vGdE",
        "colab": {
          "base_uri": "https://localhost:8080/",
          "height": 455
        },
        "outputId": "789c0811-5887-4148-a970-42a59074bfcb"
      },
      "execution_count": 231,
      "outputs": [
        {
          "output_type": "execute_result",
          "data": {
            "text/plain": [
              "                   Open         High          Low        Close    Adj Close  \\\n",
              "Date                                                                          \n",
              "2019-03-01  1221.699951  1230.500000  1217.349976  1225.949951  1224.681274   \n",
              "2019-03-05  1223.900024  1246.300049  1217.800049  1240.449951  1239.166260   \n",
              "2019-03-06  1242.099976  1247.000000  1236.599976  1241.300049  1240.015503   \n",
              "2019-03-07  1244.000000  1246.000000  1235.199951  1237.199951  1235.919678   \n",
              "2019-03-08  1237.000000  1243.500000  1231.699951  1238.900024  1237.618042   \n",
              "...                 ...          ...          ...          ...          ...   \n",
              "2019-12-23  1699.000000  1711.199951  1695.099976  1704.900024  1704.053833   \n",
              "2019-12-24  1704.949951  1716.500000  1700.000000  1711.550049  1710.700562   \n",
              "2019-12-26  1711.050049  1715.000000  1689.699951  1694.250000  1693.409058   \n",
              "2019-12-27  1705.000000  1705.000000  1681.349976  1685.599976  1684.763306   \n",
              "2019-12-30  1690.000000  1706.800049  1685.500000  1690.400024  1689.561035   \n",
              "\n",
              "             Volume     MFI_14     RSI_14        Short       Middle  \\\n",
              "Date                                                                  \n",
              "2019-03-01  2162834   7.041826  40.121540  1249.613685  1248.209347   \n",
              "2019-03-05  3128451   6.899010  45.551142  1248.391854  1247.905057   \n",
              "2019-03-06  2306834   8.710797  45.861092  1247.446280  1247.646037   \n",
              "2019-03-07  1434561   8.792024  44.544039  1246.080103  1247.236387   \n",
              "2019-03-08  1051433   8.865546  45.246192  1245.122759  1246.909471   \n",
              "...             ...        ...        ...          ...          ...   \n",
              "2019-12-23  1745488  74.951584  60.769993  1688.668472  1631.915945   \n",
              "2019-12-24  1702704  74.356858  62.075162  1691.719349  1635.038851   \n",
              "2019-12-26  1646970  69.086722  56.782529  1692.056769  1637.360856   \n",
              "2019-12-27  1529366  62.777854  54.290064  1691.195864  1639.252587   \n",
              "2019-12-30  1868284  68.098840  55.458467  1691.089752  1641.258369   \n",
              "\n",
              "                   Long  \n",
              "Date                     \n",
              "2019-03-01  1235.877598  \n",
              "2019-03-05  1235.968139  \n",
              "2019-03-06  1236.073722  \n",
              "2019-03-07  1236.096023  \n",
              "2019-03-08  1236.151548  \n",
              "...                 ...  \n",
              "2019-12-23  1581.597356  \n",
              "2019-12-24  1584.170677  \n",
              "2019-12-26  1586.350466  \n",
              "2019-12-27  1588.315803  \n",
              "2019-12-30  1590.337272  \n",
              "\n",
              "[200 rows x 11 columns]"
            ],
            "text/html": [
              "\n",
              "  <div id=\"df-8ce6fbc9-9a51-4d27-8ad2-a6dc7744bef5\">\n",
              "    <div class=\"colab-df-container\">\n",
              "      <div>\n",
              "<style scoped>\n",
              "    .dataframe tbody tr th:only-of-type {\n",
              "        vertical-align: middle;\n",
              "    }\n",
              "\n",
              "    .dataframe tbody tr th {\n",
              "        vertical-align: top;\n",
              "    }\n",
              "\n",
              "    .dataframe thead th {\n",
              "        text-align: right;\n",
              "    }\n",
              "</style>\n",
              "<table border=\"1\" class=\"dataframe\">\n",
              "  <thead>\n",
              "    <tr style=\"text-align: right;\">\n",
              "      <th></th>\n",
              "      <th>Open</th>\n",
              "      <th>High</th>\n",
              "      <th>Low</th>\n",
              "      <th>Close</th>\n",
              "      <th>Adj Close</th>\n",
              "      <th>Volume</th>\n",
              "      <th>MFI_14</th>\n",
              "      <th>RSI_14</th>\n",
              "      <th>Short</th>\n",
              "      <th>Middle</th>\n",
              "      <th>Long</th>\n",
              "    </tr>\n",
              "    <tr>\n",
              "      <th>Date</th>\n",
              "      <th></th>\n",
              "      <th></th>\n",
              "      <th></th>\n",
              "      <th></th>\n",
              "      <th></th>\n",
              "      <th></th>\n",
              "      <th></th>\n",
              "      <th></th>\n",
              "      <th></th>\n",
              "      <th></th>\n",
              "      <th></th>\n",
              "    </tr>\n",
              "  </thead>\n",
              "  <tbody>\n",
              "    <tr>\n",
              "      <th>2019-03-01</th>\n",
              "      <td>1221.699951</td>\n",
              "      <td>1230.500000</td>\n",
              "      <td>1217.349976</td>\n",
              "      <td>1225.949951</td>\n",
              "      <td>1224.681274</td>\n",
              "      <td>2162834</td>\n",
              "      <td>7.041826</td>\n",
              "      <td>40.121540</td>\n",
              "      <td>1249.613685</td>\n",
              "      <td>1248.209347</td>\n",
              "      <td>1235.877598</td>\n",
              "    </tr>\n",
              "    <tr>\n",
              "      <th>2019-03-05</th>\n",
              "      <td>1223.900024</td>\n",
              "      <td>1246.300049</td>\n",
              "      <td>1217.800049</td>\n",
              "      <td>1240.449951</td>\n",
              "      <td>1239.166260</td>\n",
              "      <td>3128451</td>\n",
              "      <td>6.899010</td>\n",
              "      <td>45.551142</td>\n",
              "      <td>1248.391854</td>\n",
              "      <td>1247.905057</td>\n",
              "      <td>1235.968139</td>\n",
              "    </tr>\n",
              "    <tr>\n",
              "      <th>2019-03-06</th>\n",
              "      <td>1242.099976</td>\n",
              "      <td>1247.000000</td>\n",
              "      <td>1236.599976</td>\n",
              "      <td>1241.300049</td>\n",
              "      <td>1240.015503</td>\n",
              "      <td>2306834</td>\n",
              "      <td>8.710797</td>\n",
              "      <td>45.861092</td>\n",
              "      <td>1247.446280</td>\n",
              "      <td>1247.646037</td>\n",
              "      <td>1236.073722</td>\n",
              "    </tr>\n",
              "    <tr>\n",
              "      <th>2019-03-07</th>\n",
              "      <td>1244.000000</td>\n",
              "      <td>1246.000000</td>\n",
              "      <td>1235.199951</td>\n",
              "      <td>1237.199951</td>\n",
              "      <td>1235.919678</td>\n",
              "      <td>1434561</td>\n",
              "      <td>8.792024</td>\n",
              "      <td>44.544039</td>\n",
              "      <td>1246.080103</td>\n",
              "      <td>1247.236387</td>\n",
              "      <td>1236.096023</td>\n",
              "    </tr>\n",
              "    <tr>\n",
              "      <th>2019-03-08</th>\n",
              "      <td>1237.000000</td>\n",
              "      <td>1243.500000</td>\n",
              "      <td>1231.699951</td>\n",
              "      <td>1238.900024</td>\n",
              "      <td>1237.618042</td>\n",
              "      <td>1051433</td>\n",
              "      <td>8.865546</td>\n",
              "      <td>45.246192</td>\n",
              "      <td>1245.122759</td>\n",
              "      <td>1246.909471</td>\n",
              "      <td>1236.151548</td>\n",
              "    </tr>\n",
              "    <tr>\n",
              "      <th>...</th>\n",
              "      <td>...</td>\n",
              "      <td>...</td>\n",
              "      <td>...</td>\n",
              "      <td>...</td>\n",
              "      <td>...</td>\n",
              "      <td>...</td>\n",
              "      <td>...</td>\n",
              "      <td>...</td>\n",
              "      <td>...</td>\n",
              "      <td>...</td>\n",
              "      <td>...</td>\n",
              "    </tr>\n",
              "    <tr>\n",
              "      <th>2019-12-23</th>\n",
              "      <td>1699.000000</td>\n",
              "      <td>1711.199951</td>\n",
              "      <td>1695.099976</td>\n",
              "      <td>1704.900024</td>\n",
              "      <td>1704.053833</td>\n",
              "      <td>1745488</td>\n",
              "      <td>74.951584</td>\n",
              "      <td>60.769993</td>\n",
              "      <td>1688.668472</td>\n",
              "      <td>1631.915945</td>\n",
              "      <td>1581.597356</td>\n",
              "    </tr>\n",
              "    <tr>\n",
              "      <th>2019-12-24</th>\n",
              "      <td>1704.949951</td>\n",
              "      <td>1716.500000</td>\n",
              "      <td>1700.000000</td>\n",
              "      <td>1711.550049</td>\n",
              "      <td>1710.700562</td>\n",
              "      <td>1702704</td>\n",
              "      <td>74.356858</td>\n",
              "      <td>62.075162</td>\n",
              "      <td>1691.719349</td>\n",
              "      <td>1635.038851</td>\n",
              "      <td>1584.170677</td>\n",
              "    </tr>\n",
              "    <tr>\n",
              "      <th>2019-12-26</th>\n",
              "      <td>1711.050049</td>\n",
              "      <td>1715.000000</td>\n",
              "      <td>1689.699951</td>\n",
              "      <td>1694.250000</td>\n",
              "      <td>1693.409058</td>\n",
              "      <td>1646970</td>\n",
              "      <td>69.086722</td>\n",
              "      <td>56.782529</td>\n",
              "      <td>1692.056769</td>\n",
              "      <td>1637.360856</td>\n",
              "      <td>1586.350466</td>\n",
              "    </tr>\n",
              "    <tr>\n",
              "      <th>2019-12-27</th>\n",
              "      <td>1705.000000</td>\n",
              "      <td>1705.000000</td>\n",
              "      <td>1681.349976</td>\n",
              "      <td>1685.599976</td>\n",
              "      <td>1684.763306</td>\n",
              "      <td>1529366</td>\n",
              "      <td>62.777854</td>\n",
              "      <td>54.290064</td>\n",
              "      <td>1691.195864</td>\n",
              "      <td>1639.252587</td>\n",
              "      <td>1588.315803</td>\n",
              "    </tr>\n",
              "    <tr>\n",
              "      <th>2019-12-30</th>\n",
              "      <td>1690.000000</td>\n",
              "      <td>1706.800049</td>\n",
              "      <td>1685.500000</td>\n",
              "      <td>1690.400024</td>\n",
              "      <td>1689.561035</td>\n",
              "      <td>1868284</td>\n",
              "      <td>68.098840</td>\n",
              "      <td>55.458467</td>\n",
              "      <td>1691.089752</td>\n",
              "      <td>1641.258369</td>\n",
              "      <td>1590.337272</td>\n",
              "    </tr>\n",
              "  </tbody>\n",
              "</table>\n",
              "<p>200 rows × 11 columns</p>\n",
              "</div>\n",
              "      <button class=\"colab-df-convert\" onclick=\"convertToInteractive('df-8ce6fbc9-9a51-4d27-8ad2-a6dc7744bef5')\"\n",
              "              title=\"Convert this dataframe to an interactive table.\"\n",
              "              style=\"display:none;\">\n",
              "        \n",
              "  <svg xmlns=\"http://www.w3.org/2000/svg\" height=\"24px\"viewBox=\"0 0 24 24\"\n",
              "       width=\"24px\">\n",
              "    <path d=\"M0 0h24v24H0V0z\" fill=\"none\"/>\n",
              "    <path d=\"M18.56 5.44l.94 2.06.94-2.06 2.06-.94-2.06-.94-.94-2.06-.94 2.06-2.06.94zm-11 1L8.5 8.5l.94-2.06 2.06-.94-2.06-.94L8.5 2.5l-.94 2.06-2.06.94zm10 10l.94 2.06.94-2.06 2.06-.94-2.06-.94-.94-2.06-.94 2.06-2.06.94z\"/><path d=\"M17.41 7.96l-1.37-1.37c-.4-.4-.92-.59-1.43-.59-.52 0-1.04.2-1.43.59L10.3 9.45l-7.72 7.72c-.78.78-.78 2.05 0 2.83L4 21.41c.39.39.9.59 1.41.59.51 0 1.02-.2 1.41-.59l7.78-7.78 2.81-2.81c.8-.78.8-2.07 0-2.86zM5.41 20L4 18.59l7.72-7.72 1.47 1.35L5.41 20z\"/>\n",
              "  </svg>\n",
              "      </button>\n",
              "      \n",
              "  <style>\n",
              "    .colab-df-container {\n",
              "      display:flex;\n",
              "      flex-wrap:wrap;\n",
              "      gap: 12px;\n",
              "    }\n",
              "\n",
              "    .colab-df-convert {\n",
              "      background-color: #E8F0FE;\n",
              "      border: none;\n",
              "      border-radius: 50%;\n",
              "      cursor: pointer;\n",
              "      display: none;\n",
              "      fill: #1967D2;\n",
              "      height: 32px;\n",
              "      padding: 0 0 0 0;\n",
              "      width: 32px;\n",
              "    }\n",
              "\n",
              "    .colab-df-convert:hover {\n",
              "      background-color: #E2EBFA;\n",
              "      box-shadow: 0px 1px 2px rgba(60, 64, 67, 0.3), 0px 1px 3px 1px rgba(60, 64, 67, 0.15);\n",
              "      fill: #174EA6;\n",
              "    }\n",
              "\n",
              "    [theme=dark] .colab-df-convert {\n",
              "      background-color: #3B4455;\n",
              "      fill: #D2E3FC;\n",
              "    }\n",
              "\n",
              "    [theme=dark] .colab-df-convert:hover {\n",
              "      background-color: #434B5C;\n",
              "      box-shadow: 0px 1px 3px 1px rgba(0, 0, 0, 0.15);\n",
              "      filter: drop-shadow(0px 1px 2px rgba(0, 0, 0, 0.3));\n",
              "      fill: #FFFFFF;\n",
              "    }\n",
              "  </style>\n",
              "\n",
              "      <script>\n",
              "        const buttonEl =\n",
              "          document.querySelector('#df-8ce6fbc9-9a51-4d27-8ad2-a6dc7744bef5 button.colab-df-convert');\n",
              "        buttonEl.style.display =\n",
              "          google.colab.kernel.accessAllowed ? 'block' : 'none';\n",
              "\n",
              "        async function convertToInteractive(key) {\n",
              "          const element = document.querySelector('#df-8ce6fbc9-9a51-4d27-8ad2-a6dc7744bef5');\n",
              "          const dataTable =\n",
              "            await google.colab.kernel.invokeFunction('convertToInteractive',\n",
              "                                                     [key], {});\n",
              "          if (!dataTable) return;\n",
              "\n",
              "          const docLinkHtml = 'Like what you see? Visit the ' +\n",
              "            '<a target=\"_blank\" href=https://colab.research.google.com/notebooks/data_table.ipynb>data table notebook</a>'\n",
              "            + ' to learn more about interactive tables.';\n",
              "          element.innerHTML = '';\n",
              "          dataTable['output_type'] = 'display_data';\n",
              "          await google.colab.output.renderOutput(dataTable, element);\n",
              "          const docLink = document.createElement('div');\n",
              "          docLink.innerHTML = docLinkHtml;\n",
              "          element.appendChild(docLink);\n",
              "        }\n",
              "      </script>\n",
              "    </div>\n",
              "  </div>\n",
              "  "
            ]
          },
          "metadata": {},
          "execution_count": 231
        }
      ]
    },
    {
      "cell_type": "code",
      "source": [
        "plt.plot(df['MFI_14'], label='MFI', color='green')\n",
        "plt.plot(df['RSI_14'], label='RSI', color='blue')\n",
        "\n",
        "#add legend\n",
        "plt.legend(title='Group')\n",
        "\n",
        "#add axes labels and a title\n",
        "plt.ylabel('SHARE PRICE', fontsize=14)\n",
        "plt.xlabel('Time', fontsize=14)\n",
        "plt.title('TA', fontsize=16)\n",
        "\n",
        "#display plot\n",
        "plt.show()"
      ],
      "metadata": {
        "id": "Upu17QGCvfsD",
        "colab": {
          "base_uri": "https://localhost:8080/",
          "height": 318
        },
        "outputId": "f9219e0b-75e6-462a-bd80-d28fc527b11e"
      },
      "execution_count": 232,
      "outputs": [
        {
          "output_type": "display_data",
          "data": {
            "text/plain": [
              "<Figure size 432x288 with 1 Axes>"
            ],
            "image/png": "[encoded data removed]"
          },
          "metadata": {}
        }
      ]
    },
    {
      "cell_type": "code",
      "source": [
        "def buy_sell_function(data):\n",
        "  buysig = []\n",
        "  buyprice = []\n",
        "  flag_long = False\n",
        "  flag_short = False\n",
        "  for i in range(0,len(data)):\n",
        "    if data['Middle'][i] < data['Long'][i] and data['Middle'][i] > data['Short'][i] and flag_long == False and flag_short == False:\n",
        "        buysig.append(1)\n",
        "        buyprice.append(data['Close'][i])\n",
        "        flag_short = True\n",
        "    elif data['Middle'][i] > data['Long'][i] and data['Middle'][i] < data['Short'][i] and flag_short == False and flag_long == False:\n",
        "        buysig.append(1)\n",
        "        buyprice.append(data['Close'][i])\n",
        "        flag_long = True\n",
        "    elif flag_short == True and data['Short'][i] > data['Middle'][i]:\n",
        "        buyprice.append(data['Close'][i])\n",
        "        buysig.append(-1)\n",
        "        flag_short = False\n",
        "    elif flag_long == True and data['Short'][i] < data['Middle'][i]:\n",
        "        buyprice.append(data['Close'][i])\n",
        "        buysig.append(-1)\n",
        "        flag_long = False\n",
        "    else:\n",
        "        buysig.append(0)\n",
        "        buyprice.append(data['Close'][i])\n",
        "  return (buysig, buyprice)\n",
        "\n",
        "df['buysignal'] = buy_sell_function(df)[0]\n",
        "df['buyprice'] =buy_sell_function(df)[1]"
      ],
      "metadata": {
        "id": "lGaKlgh7v2Oy"
      },
      "execution_count": 233,
      "outputs": []
    },
    {
      "cell_type": "code",
      "source": [
        "mfi=df['MFI_14']\n",
        "rsi=df['RSI_14']\n",
        "mfisig=[]\n",
        "for i in range(len(mfi)):\n",
        "  if mfi[i]>80:\n",
        "    mfisig.append(-1)\n",
        "  elif mfi[i]<20:\n",
        "    mfisig.append(1)\n",
        "  else:\n",
        "    mfisig.append(0)"
      ],
      "metadata": {
        "id": "W96cxFXILhAI"
      },
      "execution_count": 234,
      "outputs": []
    },
    {
      "cell_type": "code",
      "source": [
        "rsi=df['RSI_14']\n",
        "rsisig=[]\n",
        "for i in range(len(rsi)):\n",
        "  if rsi[i]>70:\n",
        "    rsisig.append(-1)\n",
        "  elif rsi[i]<30:\n",
        "    rsisig.append(1)\n",
        "  else:\n",
        "    rsisig.append(0)"
      ],
      "metadata": {
        "id": "ohVoOCeEMuYM"
      },
      "execution_count": 235,
      "outputs": []
    },
    {
      "cell_type": "code",
      "source": [
        "bs=df['buysignal']\n",
        "ss=df['buyprice']\n",
        "ct=0\n",
        "for i in range(len(bs)):\n",
        "  if(bs[i]==1 and mfisig[i]==1):\n",
        "    ct+=1\n",
        "print(ct)"
      ],
      "metadata": {
        "id": "gKKKLh16HNnR",
        "colab": {
          "base_uri": "https://localhost:8080/"
        },
        "outputId": "da2e9d07-92c5-4a2c-be19-7dcb5f55be4b"
      },
      "execution_count": 236,
      "outputs": [
        {
          "output_type": "stream",
          "name": "stdout",
          "text": [
            "1\n"
          ]
        }
      ]
    },
    {
      "cell_type": "code",
      "source": [
        "tp=0\n",
        "fl=0\n",
        "bp=0\n",
        "for i in range(len(bs)):\n",
        "  val=bs[i]*50 + mfisig[i]*50 + rsisig[i]*50\n",
        "  if val>=50 and fl==0:\n",
        "    tp-=ss[i]\n",
        "    fl=1\n",
        "    bp=ss[i]\n",
        "    print('Buy :'+ str(ss[i]))\n",
        "  elif val<=-50 and fl==1:\n",
        "    tp+=ss[i]\n",
        "    fl=0\n",
        "    print('Sell :'+ str(ss[i]))    \n",
        "\n",
        "if(fl==1):\n",
        "    tp+=bp\n",
        "\n",
        "print(tp)"
      ],
      "metadata": {
        "colab": {
          "base_uri": "https://localhost:8080/"
        },
        "id": "t5--4BiMwJFH",
        "outputId": "ac2b4b73-bdcf-4148-fd48-ecff6cdf21a0"
      },
      "execution_count": 237,
      "outputs": [
        {
          "output_type": "stream",
          "name": "stdout",
          "text": [
            "Buy :699.6500244140625\n",
            "Sell :667.2999877929688\n",
            "Buy :644.8499755859375\n",
            "Sell :714.4249877929688\n",
            "Buy :627.25\n",
            "Sell :687.6500244140625\n",
            "Buy :686.5999755859375\n",
            "Sell :701.3499755859375\n",
            "Buy :667.4000244140625\n",
            "Sell :671.5\n",
            "Buy :700.8499755859375\n",
            "Sell :726.75\n",
            "Buy :772.5999755859375\n",
            "Sell :769.5999755859375\n",
            "Buy :727.7999877929688\n",
            "Sell :795.2000122070312\n",
            "Buy :784.2999877929688\n",
            "Sell :810.9500122070312\n",
            "Buy :1009.75\n",
            "Sell :1005.1500244140625\n",
            "Buy :1038.3499755859375\n",
            "Sell :1060.550048828125\n",
            "Buy :1096.550048828125\n",
            "Sell :1172.0999755859375\n",
            "Buy :1148.699951171875\n",
            "Sell :1233.949951171875\n",
            "Buy :1256.5\n",
            "Sell :1325.1500244140625\n",
            "480.47509765625\n"
          ]
        }
      ]
    }
  ]
}
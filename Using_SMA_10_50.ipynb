{
  "nbformat": 4,
  "nbformat_minor": 0,
  "metadata": {
    "colab": {
      "name": "Using SMA 10/50.ipynb",
      "provenance": []
    },
    "kernelspec": {
      "name": "python3",
      "display_name": "Python 3"
    },
    "language_info": {
      "name": "python"
    }
  },
  "cells": [
    {
      "cell_type": "code",
      "execution_count": null,
      "metadata": {
        "id": "XSzOJbNism-t"
      },
      "outputs": [],
      "source": [
        "!pip install yfinance"
      ]
    },
    {
      "cell_type": "code",
      "source": [
        "!pip install pandas_ta"
      ],
      "metadata": {
        "id": "i_pB2Wr3uMaL"
      },
      "execution_count": null,
      "outputs": []
    },
    {
      "cell_type": "code",
      "source": [
        "import numpy as np\n",
        "import pandas as pd\n",
        "import yfinance as yf\n",
        "import pandas_datareader.data as web\n",
        "import pandas_ta as ta\n",
        "import matplotlib.pyplot as plt\n",
        "from datetime import date\n",
        "plt.style.use('fivethirtyeight')\n",
        "yf.pdr_override()"
      ],
      "metadata": {
        "id": "BNd5E8VwuN0s"
      },
      "execution_count": 41,
      "outputs": []
    },
    {
      "cell_type": "code",
      "source": [
        "stocksymbols = ['HDFCBANK.NS']\n",
        "startdate = date(2018,4,1)\n",
        "end_date = date(2019,3,31)\n",
        "print(end_date)\n",
        "def getMyPortfolio(stocks = stocksymbols ,start = startdate , end = end_date):\n",
        "    data = web.get_data_yahoo(stocks , data_source='yahoo' , start = start ,end= end )\n",
        "    return data"
      ],
      "metadata": {
        "id": "vaxoo9RhugUC"
      },
      "execution_count": null,
      "outputs": []
    },
    {
      "cell_type": "code",
      "source": [
        "df = getMyPortfolio(stocksymbols)\n"
      ],
      "metadata": {
        "id": "9ImmXNtBu1ON"
      },
      "execution_count": null,
      "outputs": []
    },
    {
      "cell_type": "code",
      "source": [
        "CustomStrategy = ta.Strategy(\n",
        "    name=\"Defining Various TI to be used\",\n",
        "    description=\"SMA 10,50, BBANDS, RSI, MACD, STOCH, EMA 20,50,100\",\n",
        "    ta=[\n",
        "        {\"kind\": \"sma\", \"length\": 10},\n",
        "        {\"kind\": \"sma\", \"length\": 50},\n",
        "        {\"kind\": \"bbands\", \"length\": 20},\n",
        "        {\"kind\": \"rsi\"},\n",
        "        {\"kind\": \"macd\", \"fast\": 8, \"slow\": 21},\n",
        "        {\"kind\": \"stoch\"},\n",
        "        {\"kind\": \"ema\", \"length\": 20},\n",
        "        {\"kind\": \"ema\", \"length\": 50},\n",
        "        {\"kind\": \"ema\", \"length\": 100},\n",
        "    ]\n",
        ")\n",
        "df.ta.strategy(CustomStrategy)"
      ],
      "metadata": {
        "id": "gzQxgnlnvBMR"
      },
      "execution_count": 44,
      "outputs": []
    },
    {
      "cell_type": "code",
      "source": [
        "df.head(200)"
      ],
      "metadata": {
        "id": "eOSyUEs9vGdE"
      },
      "execution_count": null,
      "outputs": []
    },
    {
      "cell_type": "code",
      "source": [
        "plt.plot(df['SMA_10'], label='SMA', color='green')\n",
        "plt.plot(df['Open'], label='SHARE PRICE', color='black')\n",
        "\n",
        "#add legend\n",
        "plt.legend(title='Group')\n",
        "\n",
        "#add axes labels and a title\n",
        "plt.ylabel('SHARE PRICE', fontsize=14)\n",
        "plt.xlabel('Time', fontsize=14)\n",
        "plt.title('TA', fontsize=16)\n",
        "\n",
        "#display plot\n",
        "plt.show()"
      ],
      "metadata": {
        "id": "Upu17QGCvfsD"
      },
      "execution_count": null,
      "outputs": []
    },
    {
      "cell_type": "code",
      "source": [
        "def buy_sell(data):\n",
        "    signalBuy = []\n",
        "    signalSell = []\n",
        "    position = False \n",
        "\n",
        "    for i in range(len(data)):\n",
        "        if data['SMA_10'][i] > data['SMA_50'][i]:\n",
        "            if position == False :\n",
        "                signalBuy.append(data['Adj Close'][i])\n",
        "                signalSell.append(np.nan)\n",
        "                position = True\n",
        "            else:\n",
        "                signalBuy.append(np.nan)\n",
        "                signalSell.append(np.nan)\n",
        "        elif data['SMA_10'][i] < data['SMA_50'][i]:\n",
        "            if position == True:\n",
        "                signalBuy.append(np.nan)\n",
        "                signalSell.append(data['Adj Close'][i])\n",
        "                position = False\n",
        "            else:\n",
        "                signalBuy.append(np.nan)\n",
        "                signalSell.append(np.nan)\n",
        "        else:\n",
        "            signalBuy.append(np.nan)\n",
        "            signalSell.append(np.nan)\n",
        "    return pd.Series([signalBuy, signalSell])"
      ],
      "metadata": {
        "id": "lGaKlgh7v2Oy"
      },
      "execution_count": 46,
      "outputs": []
    },
    {
      "cell_type": "code",
      "source": [
        "df['Buy_Signal_price'], df['Sell_Signal_price'] = buy_sell(df)\n"
      ],
      "metadata": {
        "id": "kYkyBb4Pv3oi"
      },
      "execution_count": 47,
      "outputs": []
    },
    {
      "cell_type": "code",
      "source": [
        "bs=df['Buy_Signal_price']\n",
        "ss=df['Sell_Signal_price']\n",
        "b = bs[np.logical_not(np.isnan(bs))]\n",
        "s = ss[np.logical_not(np.isnan(ss))]\n",
        "print(b)\n",
        "print(s)"
      ],
      "metadata": {
        "id": "ISMUjRcov913"
      },
      "execution_count": null,
      "outputs": []
    },
    {
      "cell_type": "code",
      "source": [
        "tp=0\n",
        "fl=0\n",
        "for i in range(len(s)):\n",
        "  tp = tp + s[i]\n",
        "  tp = tp - b[i]\n",
        "print(tp)"
      ],
      "metadata": {
        "colab": {
          "base_uri": "https://localhost:8080/"
        },
        "id": "t5--4BiMwJFH",
        "outputId": "a7795405-cf1c-42c9-84b9-b80164cd4dec"
      },
      "execution_count": 49,
      "outputs": [
        {
          "output_type": "stream",
          "name": "stdout",
          "text": [
            "43.48046875\n"
          ]
        }
      ]
    }
  ]
}